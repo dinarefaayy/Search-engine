{
 "cells": [
  {
   "cell_type": "markdown",
   "id": "9bf64472",
   "metadata": {},
   "source": [
    "# BOOLEAN QUERY"
   ]
  },
  {
   "cell_type": "code",
   "execution_count": 1,
   "id": "9d49543e",
   "metadata": {},
   "outputs": [],
   "source": [
    "documents = [\n",
    "    \"The quick brown fox jumps over the lazy dog\",\n",
    "    \"The lazy dog sleeps all day\",\n",
    "    \"The quick brown fox and the lazy dog are friends\",\n",
    "    \"The brown fox is quick and the lazy dog is slow\"\n",
    "]"
   ]
  },
  {
   "cell_type": "code",
   "execution_count": 2,
   "id": "c7ad5233",
   "metadata": {},
   "outputs": [],
   "source": [
    "# Function to tokenize a document into words\n",
    "def tokenize(document):\n",
    "    return document.lower().split()"
   ]
  },
  {
   "cell_type": "code",
   "execution_count": 3,
   "id": "59bc6a01",
   "metadata": {},
   "outputs": [],
   "source": [
    "# Function to create an inverted index of the documents\n",
    "def create_index(documents):\n",
    "    index = {}\n",
    "    for i, document in enumerate(documents):\n",
    "        words = tokenize(document)\n",
    "        for word in words:\n",
    "            if word not in index:\n",
    "                index[word] = set()\n",
    "            index[word].add(i)\n",
    "    return index"
   ]
  },
  {
   "cell_type": "code",
   "execution_count": 4,
   "id": "f0ebb0ce",
   "metadata": {},
   "outputs": [],
   "source": [
    "# Function to perform boolean query on the inverted index\n",
    "def boolean_query(query, index):\n",
    "    query_words = tokenize(query)\n",
    "    result_set = None\n",
    "    for word in query_words:\n",
    "        if word not in index:\n",
    "            return set()\n",
    "        if result_set is None:\n",
    "            result_set = set(index[word])\n",
    "        else:\n",
    "            result_set = result_set.intersection(index[word])\n",
    "    return result_set"
   ]
  },
  {
   "cell_type": "code",
   "execution_count": 8,
   "id": "ee9620d1",
   "metadata": {},
   "outputs": [
    {
     "name": "stdout",
     "output_type": "stream",
     "text": [
      "{2, 3}\n"
     ]
    }
   ],
   "source": [
    "# Example usage\n",
    "index = create_index(documents)\n",
    "result_set = boolean_query(\" fox AND lazy\", index)\n",
    "print(result_set) "
   ]
  },
  {
   "cell_type": "code",
   "execution_count": null,
   "id": "0cb0cc5c",
   "metadata": {},
   "outputs": [],
   "source": []
  }
 ],
 "metadata": {
  "kernelspec": {
   "display_name": "Python 3 (ipykernel)",
   "language": "python",
   "name": "python3"
  },
  "language_info": {
   "codemirror_mode": {
    "name": "ipython",
    "version": 3
   },
   "file_extension": ".py",
   "mimetype": "text/x-python",
   "name": "python",
   "nbconvert_exporter": "python",
   "pygments_lexer": "ipython3",
   "version": "3.9.7"
  }
 },
 "nbformat": 4,
 "nbformat_minor": 5
}
